{
 "cells": [
  {
   "cell_type": "code",
   "execution_count": 1,
   "metadata": {},
   "outputs": [
    {
     "name": "stderr",
     "output_type": "stream",
     "text": [
      "Entropy pool not available to seed RNG; using ad-hoc entropy sources.\n"
     ]
    },
    {
     "name": "stdout",
     "output_type": "stream",
     "text": [
      "-------------avgN = 10.42376052385407\n",
      "-------------Density = 1.2169074755451854\n"
     ]
    },
    {
     "data": {
      "text/plain": [
       "11143×11143 SparseMatrixCSC{Float64, Int64} with 27108 stored entries:\n",
       "⠻⢆⡀⡀⣀⠀⠀⢀⣄⠀⠀⠀⠀⠀⠀⠀⠀⠘⠓⣦⠀⢀⣀⣀⠀⠰⣆⠀⢀⣀⣶⣦⣶⠀⠀⠀⠠⠤⠤⠄\n",
       "⠀⠨⣿⣿⣄⠉⠈⠁⠀⠀⠀⠀⠀⠀⠀⠀⠀⠀⠻⠀⠀⠈⠉⠀⣄⣿⢨⣴⣶⣶⣶⣿⣿⣩⣴⣶⣶⣶⣶⣶\n",
       "⠀⠘⡄⠙⢻⣶⣄⠀⠀⠀⠀⠀⠀⠀⠀⠀⠀⠀⠀⠀⡀⢀⣤⣴⣿⣿⠾⢿⣽⣿⣿⣿⣿⣭⣭⣭⣿⣿⣿⣷\n",
       "⠀⢀⠆⠀⠀⠙⠻⣦⣄⠀⠀⠀⠀⠀⠀⠀⠀⠀⠀⡡⣥⣽⣿⣿⣿⣿⠀⠀⠀⠀⠉⠻⣿⠹⠽⢿⣿⣿⣿⣿\n",
       "⠀⠙⠀⠀⠀⠀⠀⠙⢿⣷⣄⠀⠀⠀⠀⠀⠀⠀⠀⠙⠛⠛⠻⠿⢿⣿⠀⠀⠀⠀⠀⠀⠀⠀⠀⠀⠀⠀⠉⢻\n",
       "⠀⠀⠀⠀⠀⠀⠀⠀⠀⠙⣿⣿⣄⠀⠀⠀⠀⠀⠀⠀⠀⠀⠀⠀⠀⠘⠀⠀⠀⠀⠀⠀⠀⠀⠀⠀⠀⠀⠀⠀\n",
       "⠀⠀⠀⠀⠀⠀⠀⠀⠀⠀⠀⠙⢿⣷⣄⠀⠀⠀⠀⠀⠀⠀⠀⠀⠀⠀⠀⠀⠀⠀⠀⠀⠀⠀⠀⠀⠀⠀⠀⠀\n",
       "⠀⠀⠀⠀⠀⠀⠀⠀⠀⠀⠀⠀⠀⠙⢿⣷⣆⠀⠀⠀⠀⠀⠀⠀⠀⠀⠀⠀⠀⠀⠀⠀⠀⠀⠀⠀⠀⠀⠀⠀\n",
       "⣀⠀⠀⠀⠀⠀⠀⠀⠀⠀⠀⠀⠀⠀⠈⠙⢿⣷⡄⠀⠀⠀⠀⠀⠀⠀⠀⠀⠀⠀⠀⠀⠀⠀⠀⠀⠀⠀⠀⠀\n",
       "⠹⣤⠛⠂⠀⠀⠄⡠⣄⠀⠀⠀⠀⠀⠀⠀⠀⠉⠱⣦⡀⠀⠀⠀⠈⠉⠇⠀⣨⣽⣿⣿⣿⠆⠀⠒⠶⠶⠶⠖\n",
       "⠀⢀⡀⠀⠀⢈⣅⣿⣿⠀⠀⠀⠀⠀⠀⠀⠀⠀⠀⠈⠻⣦⡀⠀⠀⠀⣶⣿⣯⣿⣿⣿⣿⠀⠀⠀⠀⠀⠀⠀\n",
       "⠀⢸⠃⠀⢀⣿⣿⣿⣿⡆⠀⠀⠀⠀⠀⠀⠀⠀⠀⠀⠀⠈⠿⣧⡀⠀⢺⣿⣿⣿⣿⣿⣿⠀⠀⠀⠀⠀⠀⠀\n",
       "⢀⡀⣤⣽⣿⣿⣿⣿⣿⣷⣀⠀⠀⠀⠀⠀⠀⠀⡆⠀⠀⠀⠀⠈⠻⣦⡄⠈⠙⠛⠛⠿⠿⡀⠀⠀⠀⠀⠀⠀\n",
       "⠈⠙⢂⣶⣾⣇⠀⠀⠀⠀⠀⠀⠀⠀⠀⠀⠀⠀⠉⠁⣼⣿⣾⣶⡀⠉⠻⣦⡀⠈⠉⠉⠉⠁⠀⠀⠀⠀⠀⠀\n",
       "⠀⢰⢸⣿⣷⣿⠀⠀⠀⠀⠀⠀⠀⠀⠀⠀⠀⠀⣆⣾⣯⣿⣿⣿⣷⠀⡀⠈⠻⣦⡀⠀⠀⠀⠀⠀⠀⠀⠀⠀\n",
       "⠸⣿⣼⣿⣿⣿⣧⡀⠀⠀⠀⠀⠀⠀⠀⠀⠀⠀⣿⣿⣿⣿⣿⣿⣿⡄⡇⠀⠀⠈⠻⣦⡀⠀⠀⠀⠀⠀⠀⠀\n",
       "⠘⠛⡟⣻⡟⣿⣟⡛⠀⠀⠀⠀⠀⠀⠀⠀⠀⠀⠻⠟⠛⠛⠛⠛⠛⠣⠇⠀⠀⠀⠀⠈⠻⣦⡄⠀⠶⠶⠶⠆\n",
       "⠀⠀⢰⣿⡇⣿⣷⣇⠀⠀⠀⠀⠀⠀⠀⠀⠀⠀⢠⠀⠀⠀⠀⠀⠀⠀⠀⠀⠀⠀⠀⠀⠀⠉⢿⣷⡀⠀⠀⠀\n",
       "⠀⡆⢸⣿⣿⣿⣿⣿⠀⠀⠀⠀⠀⠀⠀⠀⠀⠀⢸⡇⠀⠀⠀⠀⠀⠀⠀⠀⠀⠀⠀⠀⢸⡇⠀⠈⠻⣦⡀⠀\n",
       "⠀⠇⢸⣿⢿⣿⣿⣿⣧⣀⠀⠀⠀⠀⠀⠀⠀⠀⢸⠇⠀⠀⠀⠀⠀⠀⠀⠀⠀⠀⠀⠀⠸⠇⠀⠀⠀⠈⠻⣦"
      ]
     },
     "execution_count": 1,
     "metadata": {},
     "output_type": "execute_result"
    }
   ],
   "source": [
    "using SparseArrays\n",
    "\n",
    "\n",
    "include(\"SPF.jl\")\n",
    "include(\"mtx2ar.jl\")\n",
    "include(\"Clique_sm.jl\")\n",
    "include(\"mx_func.jl\")\n",
    "\n",
    "ar = mtx2ar(\"fe_4elt2.mtx\")\n",
    "\n",
    "A = Clique_sm(ar)\n",
    "\n",
    "## L: the number of coarsening levels, by increasing L, the ER diameter will be increased\n",
    "# Increasing L cluster more nodes together; an average of maximum 10-12 node per cluster is recommended\n",
    "# Increasing L results in a more sparse graph\n",
    "L = 4\n",
    "\n",
    "## ICr: the ratio of selecting Inter-cluster edges\n",
    "# increasing ICr, will increase the number of edges intersecting between two clusters\n",
    "# increasing Icr results in a more dense graph\n",
    "ICr = 0.11\n",
    "\n",
    "## A: the weighted adjacency matrix\n",
    "# AS: the output graph, the weighted adjacency matrix of the sparse graph\n",
    "AS = SPF(A, L, ICr)"
   ]
  },
  {
   "cell_type": "code",
   "execution_count": 2,
   "metadata": {},
   "outputs": [
    {
     "data": {
      "text/plain": [
       "11143×11143 SparseMatrixCSC{Float64, Int64} with 65636 stored entries:\n",
       "⠻⣦⡀⣀⣀⡀⡀⢀⣄⠀⠀⠀⠀⠀⠀⠀⠀⠘⠓⣦⠀⢀⣀⣀⠀⠶⣆⠀⢀⣀⣶⣶⣶⠀⠀⠀⠠⠤⠤⠄\n",
       "⠀⢨⣿⣿⣄⠉⠉⠁⠀⠀⠀⠀⠀⠀⠀⠀⠀⠀⠻⠀⠀⠈⠉⠁⣤⣿⣨⣴⣶⣶⣶⣿⣿⣭⣴⣶⣶⣶⣶⣶\n",
       "⠀⠸⡄⠙⢻⣶⣄⠀⠀⠀⠀⠀⠀⠀⠀⠀⠀⠀⠀⠀⣀⣀⣤⣾⣿⣿⠿⣿⣿⣿⣿⣿⣿⣭⣭⣭⣿⣿⣿⣷\n",
       "⠀⢈⠇⠀⠀⠙⢻⣶⣄⠀⠀⠀⠀⠀⠀⠀⠀⠀⠀⣭⣭⣽⣿⣿⣿⣿⠀⠀⠀⠈⠉⠻⣿⠿⠿⢿⣿⣿⣿⣿\n",
       "⠀⠙⠀⠀⠀⠀⠀⠙⢿⣷⣄⠀⠀⠀⠀⠀⠀⠀⠀⠛⠛⠛⠻⠿⢿⣿⠀⠀⠀⠀⠀⠀⠀⠀⠀⠀⠀⠀⠉⢻\n",
       "⠀⠀⠀⠀⠀⠀⠀⠀⠀⠙⣿⣿⣄⠀⠀⠀⠀⠀⠀⠀⠀⠀⠀⠀⠀⠘⠀⠀⠀⠀⠀⠀⠀⠀⠀⠀⠀⠀⠀⠀\n",
       "⠀⠀⠀⠀⠀⠀⠀⠀⠀⠀⠀⠙⢿⣷⣄⠀⠀⠀⠀⠀⠀⠀⠀⠀⠀⠀⠀⠀⠀⠀⠀⠀⠀⠀⠀⠀⠀⠀⠀⠀\n",
       "⠀⠀⠀⠀⠀⠀⠀⠀⠀⠀⠀⠀⠀⠙⢿⣷⣆⠀⠀⠀⠀⠀⠀⠀⠀⠀⠀⠀⠀⠀⠀⠀⠀⠀⠀⠀⠀⠀⠀⠀\n",
       "⣀⠀⠀⠀⠀⠀⠀⠀⠀⠀⠀⠀⠀⠀⠈⠙⢿⣷⡄⠀⠀⠀⠀⠀⠀⠀⠀⠀⠀⠀⠀⠀⠀⠀⠀⠀⠀⠀⠀⠀\n",
       "⠹⣤⠛⠂⠀⠀⡄⣤⣤⠀⠀⠀⠀⠀⠀⠀⠀⠉⠻⣦⡀⠀⠀⠀⠈⠻⠇⠀⣬⣽⣿⣿⣿⠇⠀⠒⠶⠶⠶⠖\n",
       "⠀⢀⡀⠀⠀⢸⣇⣿⣿⠀⠀⠀⠀⠀⠀⠀⠀⠀⠀⠈⠿⣧⡀⠀⠀⠀⣶⣿⣿⣿⣿⣿⣿⠀⠀⠀⠀⠀⠀⠀\n",
       "⠀⢸⠇⠀⣠⣿⣿⣿⣿⡆⠀⠀⠀⠀⠀⠀⠀⠀⠀⠀⠀⠈⠿⣧⣀⠀⣿⣿⣿⣿⣿⣿⣿⠀⠀⠀⠀⠀⠀⠀\n",
       "⢠⡄⣤⣿⣿⣿⣿⣿⣿⣷⣀⠀⠀⠀⠀⠀⠀⠀⣦⡀⠀⠀⠀⠘⠻⣦⡆⠉⠙⠛⠻⠿⠿⡀⠀⠀⠀⠀⠀⠀\n",
       "⠈⠙⢂⣾⣿⣧⠀⠀⠀⠀⠀⠀⠀⠀⠀⠀⠀⠀⠉⠁⣼⣿⣿⣿⡌⠉⠻⣦⡄⠈⠉⠉⠉⠁⠀⠀⠀⠀⠀⠀\n",
       "⠀⢰⢸⣿⣿⣿⡀⠀⠀⠀⠀⠀⠀⠀⠀⠀⠀⠀⣆⣿⣿⣿⣿⣿⣷⠀⡀⠉⠻⣦⡄⠀⠀⠀⠀⠀⠀⠀⠀⠀\n",
       "⢸⣿⣼⣿⣿⣿⣧⡀⠀⠀⠀⠀⠀⠀⠀⠀⠀⠀⣿⣿⣿⣿⣿⣿⣿⡆⡇⠀⠀⠉⠻⣦⡀⠀⠀⠀⠀⠀⠀⠀\n",
       "⠘⠛⡟⣿⡟⣿⣿⡟⠀⠀⠀⠀⠀⠀⠀⠀⠀⠀⠿⠟⠛⠛⠛⠛⠛⠣⠇⠀⠀⠀⠀⠈⠻⣦⡄⠀⠶⠶⠶⠦\n",
       "⠀⠀⢰⣿⡇⣿⣿⣇⠀⠀⠀⠀⠀⠀⠀⠀⠀⠀⢠⠀⠀⠀⠀⠀⠀⠀⠀⠀⠀⠀⠀⠀⠀⠉⢿⣷⡀⠀⠀⠀\n",
       "⠀⡆⢸⣿⣿⣿⣿⣿⠀⠀⠀⠀⠀⠀⠀⠀⠀⠀⢸⡇⠀⠀⠀⠀⠀⠀⠀⠀⠀⠀⠀⠀⢸⡇⠀⠈⠻⣦⡀⠀\n",
       "⠀⠇⢸⣿⢿⣿⣿⣿⣧⣀⠀⠀⠀⠀⠀⠀⠀⠀⢸⠇⠀⠀⠀⠀⠀⠀⠀⠀⠀⠀⠀⠀⠸⡇⠀⠀⠀⠈⠻⣦"
      ]
     },
     "execution_count": 2,
     "metadata": {},
     "output_type": "execute_result"
    }
   ],
   "source": [
    "A"
   ]
  },
  {
   "cell_type": "code",
   "execution_count": 4,
   "metadata": {},
   "outputs": [
    {
     "data": {
      "text/plain": [
       "PyObject <11143x11143 sparse matrix of type '<class 'numpy.float64'>'\n",
       "\twith 65636 stored elements in Compressed Sparse Row format>"
      ]
     },
     "execution_count": 4,
     "metadata": {},
     "output_type": "execute_result"
    }
   ],
   "source": [
    "using SparseArrays\n",
    "using PyCall\n",
    "\n",
    "# Your SparseMatrixCSC\n",
    "\n",
    "# Import the required Python library\n",
    "scipy_sparse = pyimport(\"scipy.sparse\")\n",
    "\n",
    "# Extract the components of the SparseMatrixCSC and adjust indices for 0-based Python\n",
    "m, n = size(A)\n",
    "colPtr = A.colptr .- 1  # Subtract 1 for Python's 0-based indexing\n",
    "rowVal = A.rowval .- 1  # Subtract 1 for Python's 0-based indexing\n",
    "nzVal = A.nzval\n",
    "\n",
    "# Create a scipy.sparse.csr_matrix in Python directly using Julia arrays\n",
    "PyAS = scipy_sparse.csr_matrix((nzVal, rowVal, colPtr), shape=(m, n))\n"
   ]
  }
 ],
 "metadata": {
  "kernelspec": {
   "display_name": "Julia 1.8.5",
   "language": "julia",
   "name": "julia-1.8"
  },
  "language_info": {
   "file_extension": ".jl",
   "mimetype": "application/julia",
   "name": "julia",
   "version": "1.8.5"
  },
  "orig_nbformat": 4
 },
 "nbformat": 4,
 "nbformat_minor": 2
}
